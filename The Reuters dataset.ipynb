{
 "cells": [
  {
   "cell_type": "code",
   "execution_count": 16,
   "metadata": {},
   "outputs": [
    {
     "name": "stdout",
     "output_type": "stream",
     "text": [
      "Train on 7982 samples, validate on 1000 samples\n",
      "Epoch 1/20\n",
      "7982/7982 [==============================] - 2s 242us/step - loss: 2.6816 - accuracy: 0.4940 - val_loss: 1.8003 - val_accuracy: 0.6300\n",
      "Epoch 2/20\n",
      "7982/7982 [==============================] - 2s 210us/step - loss: 1.4560 - accuracy: 0.6922 - val_loss: 1.3174 - val_accuracy: 0.7210\n",
      "Epoch 3/20\n",
      "7982/7982 [==============================] - 1s 182us/step - loss: 1.0677 - accuracy: 0.7674 - val_loss: 1.1298 - val_accuracy: 0.7580\n",
      "Epoch 4/20\n",
      "7982/7982 [==============================] - 1s 184us/step - loss: 0.8352 - accuracy: 0.8195 - val_loss: 1.0177 - val_accuracy: 0.7940\n",
      "Epoch 5/20\n",
      "7982/7982 [==============================] - 2s 281us/step - loss: 0.6633 - accuracy: 0.8636 - val_loss: 0.9734 - val_accuracy: 0.7880\n",
      "Epoch 6/20\n",
      "7982/7982 [==============================] - 2s 287us/step - loss: 0.5281 - accuracy: 0.8913 - val_loss: 0.9227 - val_accuracy: 0.8030\n",
      "Epoch 7/20\n",
      "7982/7982 [==============================] - 2s 312us/step - loss: 0.4240 - accuracy: 0.9147 - val_loss: 0.9275 - val_accuracy: 0.8010\n",
      "Epoch 8/20\n",
      "7982/7982 [==============================] - 2s 221us/step - loss: 0.3458 - accuracy: 0.9283 - val_loss: 0.9110 - val_accuracy: 0.8100\n",
      "Epoch 9/20\n",
      "7982/7982 [==============================] - 2s 234us/step - loss: 0.2838 - accuracy: 0.9405 - val_loss: 0.9501 - val_accuracy: 0.7960\n",
      "Epoch 10/20\n",
      "7982/7982 [==============================] - 2s 259us/step - loss: 0.2418 - accuracy: 0.9450 - val_loss: 0.9287 - val_accuracy: 0.8130\n",
      "Epoch 11/20\n",
      "7982/7982 [==============================] - 2s 219us/step - loss: 0.2065 - accuracy: 0.9504 - val_loss: 0.9748 - val_accuracy: 0.8020\n",
      "Epoch 12/20\n",
      "7982/7982 [==============================] - 2s 223us/step - loss: 0.1827 - accuracy: 0.9523 - val_loss: 0.9694 - val_accuracy: 0.8030\n",
      "Epoch 13/20\n",
      "7982/7982 [==============================] - 2s 242us/step - loss: 0.1660 - accuracy: 0.9540 - val_loss: 0.9983 - val_accuracy: 0.8030\n",
      "Epoch 14/20\n",
      "7982/7982 [==============================] - 2s 241us/step - loss: 0.1494 - accuracy: 0.9549 - val_loss: 0.9928 - val_accuracy: 0.8120\n",
      "Epoch 15/20\n",
      "7982/7982 [==============================] - 2s 231us/step - loss: 0.1404 - accuracy: 0.9546 - val_loss: 1.0251 - val_accuracy: 0.8010\n",
      "Epoch 16/20\n",
      "7982/7982 [==============================] - 2s 217us/step - loss: 0.1325 - accuracy: 0.9568 - val_loss: 1.0355 - val_accuracy: 0.8050\n",
      "Epoch 17/20\n",
      "7982/7982 [==============================] - 1s 185us/step - loss: 0.1256 - accuracy: 0.9572 - val_loss: 1.0675 - val_accuracy: 0.7970\n",
      "Epoch 18/20\n",
      "7982/7982 [==============================] - 2s 190us/step - loss: 0.1215 - accuracy: 0.9579 - val_loss: 1.0396 - val_accuracy: 0.8070\n",
      "Epoch 19/20\n",
      "7982/7982 [==============================] - 1s 183us/step - loss: 0.1176 - accuracy: 0.9572 - val_loss: 1.0684 - val_accuracy: 0.8090\n",
      "Epoch 20/20\n",
      "7982/7982 [==============================] - 1s 187us/step - loss: 0.1116 - accuracy: 0.9569 - val_loss: 1.0826 - val_accuracy: 0.8090\n"
     ]
    },
    {
     "data": {
      "image/png": "[encoded data removed]",
      "text/plain": [
       "<Figure size 432x288 with 1 Axes>"
      ]
     },
     "metadata": {
      "needs_background": "light"
     },
     "output_type": "display_data"
    },
    {
     "data": {
      "image/png": "[encoded data removed]",
      "text/plain": [
       "<Figure size 432x288 with 1 Axes>"
      ]
     },
     "metadata": {
      "needs_background": "light"
     },
     "output_type": "display_data"
    }
   ],
   "source": [
    "import keras\n",
    "from keras.datasets import reuters\n",
    "(train_data, train_labels), (test_data, test_labels) = reuters.load_data(num_words=10000)\n",
    "\n",
    "import numpy as np\n",
    "def vectorize_sequences(sequences, dimension=10000):\n",
    "    results = np.zeros((len(sequences), dimension))\n",
    "    for i, sequence in enumerate(sequences):\n",
    "        results[i, sequence] = 1.\n",
    "    return results\n",
    "x_train = vectorize_sequences(train_data)\n",
    "x_test = vectorize_sequences(test_data)\n",
    "\n",
    "from keras.utils.np_utils import to_categorical\n",
    "one_hot_train_labels = to_categorical(train_labels)\n",
    "one_hot_test_labels = to_categorical(test_labels)\n",
    "\n",
    "#print(len(one_hot_train_labels[0]))\n",
    "\n",
    "from keras import models\n",
    "from keras import layers\n",
    "\n",
    "#Defining the model\n",
    "model = models.Sequential()\n",
    "model.add(layers.Dense(64, activation='relu', input_shape=(10000,)))\n",
    "model.add(layers.Dense(64, activation='relu'))\n",
    "model.add(layers.Dense(46, activation='softmax'))\n",
    "\n",
    "#Compiling the model\n",
    "model.compile(optimizer='rmsprop', loss='categorical_crossentropy', metrics=['accuracy'])\n",
    "\n",
    "#Setting aside a validation set\n",
    "x_val = x_train[:1000]\n",
    "partial_x_train = x_train[1000:]\n",
    "y_val = one_hot_train_labels[:1000]\n",
    "partial_y_train = one_hot_train_labels[1000:]\n",
    "\n",
    "#Training the model\n",
    "history = model.fit(partial_x_train, partial_y_train, epochs=20, batch_size=512, validation_data=(x_val, y_val))\n",
    "\n",
    "#Ploting and training the validation loss\n",
    "import matplotlib.pyplot as plt\n",
    "loss = history.history['loss']\n",
    "val_loss = history.history['val_loss']\n",
    "epochs = range(1, len(loss) + 1)\n",
    "plt.plot(epochs, loss, 'bo', label='Training loss')\n",
    "plt.plot(epochs, val_loss, 'b', label='Validation loss')\n",
    "plt.title('Training and validation loss')\n",
    "plt.xlabel('Epochs')\n",
    "plt.ylabel('Loss')\n",
    "plt.legend()\n",
    "plt.show()\n",
    "\n",
    "#Plotting and training the accuracy\n",
    "plt.clf()\n",
    "acc = history.history['accuracy']\n",
    "val_acc = history.history['val_accuracy']\n",
    "plt.plot(epochs, acc, 'bo', label='Training acc')\n",
    "plt.plot(epochs, val_acc, 'b', label='Validation acc')\n",
    "plt.title('Training and validation accuracy')\n",
    "plt.xlabel('Epochs')\n",
    "plt.ylabel('Accuracy')\n",
    "plt.legend()\n",
    "plt.show()"
   ]
  },
  {
   "cell_type": "code",
   "execution_count": 21,
   "metadata": {},
   "outputs": [
    {
     "name": "stdout",
     "output_type": "stream",
     "text": [
      "Train on 7982 samples, validate on 1000 samples\n",
      "Epoch 1/9\n",
      "7982/7982 [==============================] - 2s 201us/step - loss: 2.6559 - accuracy: 0.5405 - val_loss: 1.7958 - val_accuracy: 0.6430\n",
      "Epoch 2/9\n",
      "7982/7982 [==============================] - 1s 183us/step - loss: 1.4533 - accuracy: 0.7067 - val_loss: 1.3228 - val_accuracy: 0.7180\n",
      "Epoch 3/9\n",
      "7982/7982 [==============================] - 2s 201us/step - loss: 1.0710 - accuracy: 0.7684 - val_loss: 1.1258 - val_accuracy: 0.7600\n",
      "Epoch 4/9\n",
      "7982/7982 [==============================] - 2s 239us/step - loss: 0.8391 - accuracy: 0.8205 - val_loss: 1.0158 - val_accuracy: 0.7820\n",
      "Epoch 5/9\n",
      "7982/7982 [==============================] - 1s 184us/step - loss: 0.6682 - accuracy: 0.8629 - val_loss: 0.9587 - val_accuracy: 0.7990\n",
      "Epoch 6/9\n",
      "7982/7982 [==============================] - 1s 182us/step - loss: 0.5308 - accuracy: 0.8910 - val_loss: 0.8996 - val_accuracy: 0.8180\n",
      "Epoch 7/9\n",
      "7982/7982 [==============================] - 2s 189us/step - loss: 0.4227 - accuracy: 0.9138 - val_loss: 0.8786 - val_accuracy: 0.8210\n",
      "Epoch 8/9\n",
      "7982/7982 [==============================] - 1s 181us/step - loss: 0.3449 - accuracy: 0.9261 - val_loss: 0.8689 - val_accuracy: 0.8250\n",
      "Epoch 9/9\n",
      "7982/7982 [==============================] - 1s 182us/step - loss: 0.2852 - accuracy: 0.9357 - val_loss: 0.8932 - val_accuracy: 0.8180\n",
      "2246/2246 [==============================] - 0s 193us/step\n"
     ]
    },
    {
     "data": {
      "text/plain": [
       "[1.0161499533394247, 0.7845057845115662]"
      ]
     },
     "execution_count": 21,
     "metadata": {},
     "output_type": "execute_result"
    }
   ],
   "source": [
    "#Retraining amodel from scratch\n",
    "model = models.Sequential()\n",
    "model.add(layers.Dense(64, activation='relu', input_shape=(10000,)))\n",
    "model.add(layers.Dense(64, activation='relu'))\n",
    "model.add(layers.Dense(46, activation='softmax'))\n",
    "model.compile(optimizer='rmsprop',\n",
    "loss='categorical_crossentropy',\n",
    "metrics=['accuracy'])\n",
    "model.fit(partial_x_train, partial_y_train, epochs=9, batch_size=512,\n",
    "validation_data=(x_val, y_val))\n",
    "results = model.evaluate(x_test, one_hot_test_labels)\n",
    "results"
   ]
  },
  {
   "cell_type": "code",
   "execution_count": 22,
   "metadata": {},
   "outputs": [
    {
     "data": {
      "text/plain": [
       "3"
      ]
     },
     "execution_count": 22,
     "metadata": {},
     "output_type": "execute_result"
    }
   ],
   "source": [
    "#Generating predictions for new data\n",
    "predictions = model.predict(x_test)\n",
    "np.argmax(predictions[0])"
   ]
  },
  {
   "cell_type": "code",
   "execution_count": 10,
   "metadata": {},
   "outputs": [
    {
     "name": "stdout",
     "output_type": "stream",
     "text": [
      "? ? ? said as a result of its december acquisition of space co it expects earnings per share in 1987 of 1 15 to 1 30 dlrs per share up from 70 cts in 1986 the company said pretax net should rise to nine to 10 mln dlrs from six mln dlrs in 1986 and rental operation revenues to 19 to 22 mln dlrs from 12 5 mln dlrs it said cash flow per share this year should be 2 50 to three dlrs reuter 3\n"
     ]
    }
   ],
   "source": [
    "word_index = reuters.get_word_index()\n",
    "reverse_word_index = dict([(value, key) for (key, value) in word_index.items()])\n",
    "decoded_newswire = ' '.join([reverse_word_index.get(i - 3, '?') for i in\n",
    "train_data[0]])\n",
    "print(decoded_newswire)"
   ]
  },
  {
   "cell_type": "code",
   "execution_count": null,
   "metadata": {},
   "outputs": [],
   "source": []
  }
 ],
 "metadata": {
  "kernelspec": {
   "display_name": "Python 3",
   "language": "python",
   "name": "python3"
  },
  "language_info": {
   "codemirror_mode": {
    "name": "ipython",
    "version": 3
   },
   "file_extension": ".py",
   "mimetype": "text/x-python",
   "name": "python",
   "nbconvert_exporter": "python",
   "pygments_lexer": "ipython3",
   "version": "3.7.4"
  }
 },
 "nbformat": 4,
 "nbformat_minor": 4
}
